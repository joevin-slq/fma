{
 "cells": [
  {
   "cell_type": "markdown",
   "metadata": {},
   "source": [
    "# Reconaissance de genre musicaux\n",
    "\n",
    "Lionel Baptiste, Ghali El Ouarzazi, Joévin Soulenq\n",
    "\n",
    "Basé sur les travaux de Michaël Defferrard : https://github.com/mdeff/fma\n",
    "\n",
    "## Données\n",
    "\n",
    "* On utilise les données de la free music archive\n",
    "* On cherche à avoir X = features.mfcc[1, 139]\n",
    "* On cherche à avoir Y = tracks.genre_top[]\n",
    "\n",
    "## Prédiction du genre musical (depuis indicateurs.csv)\n",
    "\n",
    "* On utilise le meilleur classifieur (SVM)\n",
    "* On prédit le genre à partir d'une nouvelle musique\n",
    "* Prédiction depuis les indicateurs MFCC présents dans le fichier **indicateurs.csv**"
   ]
  },
  {
   "cell_type": "code",
   "execution_count": 5,
   "metadata": {},
   "outputs": [],
   "source": [
    "import time\n",
    "import os\n",
    "\n",
    "import numpy as np\n",
    "import matplotlib.pyplot as plt\n",
    "import pandas as pd\n",
    "\n",
    "from sklearn.utils import shuffle\n",
    "from sklearn.preprocessing import MultiLabelBinarizer, LabelEncoder, LabelBinarizer, StandardScaler\n",
    "from sklearn.svm import SVC\n",
    "from sklearn.neural_network import MLPClassifier\n",
    "\n",
    "import warnings\n",
    "warnings.simplefilter(action='ignore', category=FutureWarning)\n",
    "\n",
    "import utils"
   ]
  },
  {
   "cell_type": "code",
   "execution_count": 6,
   "metadata": {},
   "outputs": [
    {
     "data": {
      "text/plain": [
       "((106574, 52), (106574, 518))"
      ]
     },
     "execution_count": 6,
     "metadata": {},
     "output_type": "execute_result"
    }
   ],
   "source": [
    "# On charge les fichiers\n",
    "tracks = utils.load('fma_metadata/tracks.csv')\n",
    "features = utils.load('fma_metadata/features.csv')\n",
    "\n",
    "np.testing.assert_array_equal(features.index, tracks.index)\n",
    "\n",
    "tracks.shape, features.shape"
   ]
  },
  {
   "cell_type": "code",
   "execution_count": 7,
   "metadata": {},
   "outputs": [
    {
     "name": "stdout",
     "output_type": "stream",
     "text": [
      "19922 training examples, 2573 testing examples\n",
      "140 features, 16 classes\n"
     ]
    }
   ],
   "source": [
    "small = tracks['set', 'subset'] <= 'medium' # 'small', 'medium', 'large' ou 'full'\n",
    "\n",
    "train = tracks['set', 'split'] == 'training'\n",
    "val   = tracks['set', 'split'] == 'validation'\n",
    "test  = tracks['set', 'split'] == 'test'\n",
    "\n",
    "y_train = tracks.loc[small & train, ('track', 'genre_top')]\n",
    "y_test  = tracks.loc[small & test,  ('track', 'genre_top')]\n",
    "X_train = features.loc[small & train, 'mfcc'] # ['mfcc', 'spectral_contrast']\n",
    "X_test  = features.loc[small & test,  'mfcc'] # ['mfcc', 'spectral_contrast']\n",
    "\n",
    "print('{} training examples, {} testing examples'.format(y_train.size, y_test.size))\n",
    "print('{} features, {} classes'.format(X_train.shape[1], np.unique(y_train).size))"
   ]
  },
  {
   "cell_type": "code",
   "execution_count": 8,
   "metadata": {},
   "outputs": [
    {
     "name": "stdout",
     "output_type": "stream",
     "text": [
      "Précision : 57.95%\n",
      "Durée : 185.0115\n"
     ]
    }
   ],
   "source": [
    "# Mélange l'ensemble des attributs (indispensable pour avoir un résultat correct)\n",
    "X_train, y_train = shuffle(X_train, y_train, random_state=42)\n",
    "\n",
    "# Standardise les données en retirant la moyenne et réduit la variance \"zero mean and unit variance\".\n",
    "scaler = StandardScaler(copy=False)\n",
    "scaler.fit_transform(X_train)\n",
    "scaler.transform(X_test)\n",
    "\n",
    "# Classification par machine à vecteurs de support (SVM)\n",
    "t = time.process_time()\n",
    "#clf = SVC(kernel='rbf')\n",
    "clf = MLPClassifier(hidden_layer_sizes=(10), max_iter=1000)  \n",
    "clf.fit(X_train, y_train)\n",
    "score = clf.score(X_test, y_test)\n",
    "print('Précision : {:.2%}'.format(score))\n",
    "print('Durée : {:.4f}'.format(time.process_time() - t))"
   ]
  },
  {
   "cell_type": "code",
   "execution_count": 9,
   "metadata": {},
   "outputs": [
    {
     "name": "stdout",
     "output_type": "stream",
     "text": [
      "Genre musical trouvé: Folk\n"
     ]
    },
    {
     "data": {
      "text/html": [
       "<div>\n",
       "<style scoped>\n",
       "    .dataframe tbody tr th:only-of-type {\n",
       "        vertical-align: middle;\n",
       "    }\n",
       "\n",
       "    .dataframe tbody tr th {\n",
       "        vertical-align: top;\n",
       "    }\n",
       "\n",
       "    .dataframe thead th {\n",
       "        text-align: right;\n",
       "    }\n",
       "</style>\n",
       "<table border=\"1\" class=\"dataframe\">\n",
       "  <thead>\n",
       "    <tr style=\"text-align: right;\">\n",
       "      <th></th>\n",
       "      <th>Blues</th>\n",
       "      <th>Classical</th>\n",
       "      <th>Country</th>\n",
       "      <th>Easy Listening</th>\n",
       "      <th>Electronic</th>\n",
       "      <th>Experimental</th>\n",
       "      <th>Folk</th>\n",
       "      <th>Hip-Hop</th>\n",
       "      <th>Instrumental</th>\n",
       "      <th>International</th>\n",
       "      <th>Jazz</th>\n",
       "      <th>Old-Time / Historic</th>\n",
       "      <th>Pop</th>\n",
       "      <th>Rock</th>\n",
       "      <th>Soul-RnB</th>\n",
       "      <th>Spoken</th>\n",
       "    </tr>\n",
       "  </thead>\n",
       "  <tbody>\n",
       "    <tr>\n",
       "      <th>0</th>\n",
       "      <td>4.376174e-55</td>\n",
       "      <td>4.614233e-51</td>\n",
       "      <td>8.278110e-59</td>\n",
       "      <td>2.832088e-117</td>\n",
       "      <td>9.551552e-78</td>\n",
       "      <td>6.959750e-62</td>\n",
       "      <td>1.0</td>\n",
       "      <td>6.953924e-84</td>\n",
       "      <td>9.587837e-81</td>\n",
       "      <td>1.483470e-50</td>\n",
       "      <td>1.178408e-63</td>\n",
       "      <td>7.581389e-195</td>\n",
       "      <td>1.479922e-16</td>\n",
       "      <td>1.280908e-39</td>\n",
       "      <td>8.777744e-61</td>\n",
       "      <td>7.798819e-66</td>\n",
       "    </tr>\n",
       "  </tbody>\n",
       "</table>\n",
       "</div>"
      ],
      "text/plain": [
       "          Blues     Classical       Country  Easy Listening    Electronic  \\\n",
       "0  4.376174e-55  4.614233e-51  8.278110e-59   2.832088e-117  9.551552e-78   \n",
       "\n",
       "   Experimental  Folk       Hip-Hop  Instrumental  International  \\\n",
       "0  6.959750e-62   1.0  6.953924e-84  9.587837e-81   1.483470e-50   \n",
       "\n",
       "           Jazz  Old-Time / Historic           Pop          Rock  \\\n",
       "0  1.178408e-63        7.581389e-195  1.479922e-16  1.280908e-39   \n",
       "\n",
       "       Soul-RnB        Spoken  \n",
       "0  8.777744e-61  7.798819e-66  "
      ]
     },
     "execution_count": 9,
     "metadata": {},
     "output_type": "execute_result"
    }
   ],
   "source": [
    "# chargement des indicateurs d'une musique à prédire\n",
    "indic = pd.read_csv('indicateurs.csv', index_col=[0], header=[0,1,2])\n",
    "\n",
    "''' # Pré-raitement, utile ?\n",
    "# Mélange l'ensemble des attributs (indispensable pour avoir un résultat correct)\n",
    "indic = shuffle(indic, random_state=42)\n",
    "\n",
    "# Standardise les données en retirant la moyenne et réduit la variance \"zero mean and unit variance\".\n",
    "scaler = StandardScaler(copy=False)\n",
    "scaler.fit_transform(indic)\n",
    "scaler.transform(indic)\n",
    "'''\n",
    "\n",
    "# prédiction\n",
    "prediction = clf.predict(indic)\n",
    "print('Genre musical trouvé: {}'.format(prediction[0]))\n",
    "\n",
    "# prédiction avec seuils de confiance\n",
    "#dec = clf.decision_function(indic)\n",
    "dec = clf.predict_proba(indic)\n",
    "\n",
    "colonnes = ['Blues', 'Classical', 'Country', 'Easy Listening', 'Electronic', 'Experimental', 'Folk', 'Hip-Hop', 'Instrumental', 'International', 'Jazz', 'Old-Time / Historic', 'Pop', 'Rock', 'Soul-RnB', 'Spoken']\n",
    "data = pd.DataFrame(data=dec, columns=colonnes)\n",
    "data.head()"
   ]
  },
  {
   "cell_type": "code",
   "execution_count": null,
   "metadata": {},
   "outputs": [],
   "source": []
  }
 ],
 "metadata": {
  "kernelspec": {
   "display_name": "Python 3",
   "language": "python",
   "name": "python3"
  },
  "language_info": {
   "codemirror_mode": {
    "name": "ipython",
    "version": 3
   },
   "file_extension": ".py",
   "mimetype": "text/x-python",
   "name": "python",
   "nbconvert_exporter": "python",
   "pygments_lexer": "ipython3",
   "version": "3.6.0"
  }
 },
 "nbformat": 4,
 "nbformat_minor": 2
}
